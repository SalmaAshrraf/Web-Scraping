{
  "nbformat": 4,
  "nbformat_minor": 0,
  "metadata": {
    "colab": {
      "name": "Untitled12.ipynb",
      "provenance": []
    },
    "kernelspec": {
      "name": "python3",
      "display_name": "Python 3"
    },
    "language_info": {
      "name": "python"
    }
  },
  "cells": [
    {
      "cell_type": "code",
      "metadata": {
        "id": "sMxsEn43XVuJ"
      },
      "source": [
        "import requests\n",
        "from bs4 import BeautifulSoup \n"
      ],
      "execution_count": 81,
      "outputs": []
    },
    {
      "cell_type": "code",
      "metadata": {
        "id": "MXIMd6YXXX5b"
      },
      "source": [
        "result = requests.get('https://www.exchangerates.org.uk/Dollars-to-Egyptian-Pounds-currency-conversion-page.html')\n",
        "src = result.content\n"
      ],
      "execution_count": 82,
      "outputs": []
    },
    {
      "cell_type": "code",
      "metadata": {
        "id": "Wln9TQfXZdFO"
      },
      "source": [
        "soup = BeautifulSoup(result.text, 'html.parser')\n"
      ],
      "execution_count": 83,
      "outputs": []
    },
    {
      "cell_type": "code",
      "metadata": {
        "id": "AENsHKggZfbD"
      },
      "source": [
        "#usd_value = soup.find(\"span\", {\"id\":\"shd2a\"}).find(\"span\").get_text()\n",
        "usd_value =soup.find('span', attrs={'id' : 'shd2a'}).find('span').get_text()"
      ],
      "execution_count": 88,
      "outputs": []
    },
    {
      "cell_type": "code",
      "metadata": {
        "colab": {
          "base_uri": "https://localhost:8080/"
        },
        "id": "mVLR3l9GavWF",
        "outputId": "5dde7cf1-cafb-4702-ff58-0df91b5b1e19"
      },
      "source": [
        "usd = input(\"USD\")\n",
        "pounds = int(usd) * float(usd_value)\n",
        "\n",
        "print(f'Egyption pound = {pounds} EGP')\n"
      ],
      "execution_count": 90,
      "outputs": [
        {
          "output_type": "stream",
          "name": "stdout",
          "text": [
            "USD1\n",
            "Egyption pound = 15.7015 EGP\n"
          ]
        }
      ]
    },
    {
      "cell_type": "code",
      "metadata": {
        "id": "b2xPxczxb9fX"
      },
      "source": [
        ""
      ],
      "execution_count": 89,
      "outputs": []
    }
  ]
}
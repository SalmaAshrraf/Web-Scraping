{
  "nbformat": 4,
  "nbformat_minor": 0,
  "metadata": {
    "colab": {
      "name": "Untitled8.ipynb",
      "provenance": []
    },
    "kernelspec": {
      "name": "python3",
      "display_name": "Python 3"
    },
    "language_info": {
      "name": "python"
    }
  },
  "cells": [
    {
      "cell_type": "code",
      "metadata": {
        "id": "JOzcZWN5JNkp"
      },
      "source": [
        "import requests\n",
        "from bs4 import BeautifulSoup \n",
        "import csv\n",
        "from itertools import zip_longest\n",
        "import pandas as pd\n"
      ],
      "execution_count": 88,
      "outputs": []
    },
    {
      "cell_type": "code",
      "metadata": {
        "id": "v9it5oPcWk1n"
      },
      "source": [
        "book_title = []\n",
        "book_price = []\n",
        "book_rate = []"
      ],
      "execution_count": 89,
      "outputs": []
    },
    {
      "cell_type": "code",
      "metadata": {
        "id": "Yw2uoeE9JUV2"
      },
      "source": [
        "result = requests.get('http://books.toscrape.com/catalogue/category/books/science_22/index.html')\n",
        "src = result.content\n"
      ],
      "execution_count": 90,
      "outputs": []
    },
    {
      "cell_type": "code",
      "metadata": {
        "id": "yPD-e7a9KNhU"
      },
      "source": [
        "soup = BeautifulSoup(src, \"lxml\")\n"
      ],
      "execution_count": 91,
      "outputs": []
    },
    {
      "cell_type": "code",
      "metadata": {
        "id": "tuZaRXebP2Wt"
      },
      "source": [
        " title = soup.find_all(\"h3\")\n",
        " price = soup.find_all(\"p\",{\"class\":\"price_color\"})\n",
        " rate = soup.find_all('p',{'class':'star-rating'})"
      ],
      "execution_count": 95,
      "outputs": []
    },
    {
      "cell_type": "code",
      "metadata": {
        "id": "PYIyWIhPSwFI"
      },
      "source": [
        "\n",
        "for i in range(len(title)):\n",
        "  book_title.append(title[i].text)\n",
        "  book_price.append(price[i].text)\n",
        "  book_rate.append(rate[i].attrs['class'][1])"
      ],
      "execution_count": 96,
      "outputs": []
    },
    {
      "cell_type": "code",
      "metadata": {
        "id": "TI26boLhW7DG"
      },
      "source": [
        "file_list = [book_title, book_price, book_rate]\n",
        "exported = zip_longest(*file_list)\n",
        "with open (\"/content/D:\\AI\\scraping.csv\", \"w\") as myfile:\n",
        "  wr = csv.writer(myfile)\n",
        "  wr.writerow([\"book_title\", \"book_price\", \"book_rate\"])\n",
        "  wr.writerows(exported)"
      ],
      "execution_count": 97,
      "outputs": []
    },
    {
      "cell_type": "code",
      "metadata": {
        "id": "-5UKd7tkC50D",
        "colab": {
          "base_uri": "https://localhost:8080/",
          "height": 480
        },
        "outputId": "03605f54-df71-4336-deb0-6f8cd6885713"
      },
      "source": [
        "pd.read_csv('/content/D:\\AI\\scraping.csv')"
      ],
      "execution_count": 98,
      "outputs": [
        {
          "output_type": "execute_result",
          "data": {
            "text/html": [
              "<div>\n",
              "<style scoped>\n",
              "    .dataframe tbody tr th:only-of-type {\n",
              "        vertical-align: middle;\n",
              "    }\n",
              "\n",
              "    .dataframe tbody tr th {\n",
              "        vertical-align: top;\n",
              "    }\n",
              "\n",
              "    .dataframe thead th {\n",
              "        text-align: right;\n",
              "    }\n",
              "</style>\n",
              "<table border=\"1\" class=\"dataframe\">\n",
              "  <thead>\n",
              "    <tr style=\"text-align: right;\">\n",
              "      <th></th>\n",
              "      <th>book_title</th>\n",
              "      <th>book_price</th>\n",
              "      <th>book_rate</th>\n",
              "    </tr>\n",
              "  </thead>\n",
              "  <tbody>\n",
              "    <tr>\n",
              "      <th>0</th>\n",
              "      <td>The Most Perfect Thing: ...</td>\n",
              "      <td>£42.96</td>\n",
              "      <td>Four</td>\n",
              "    </tr>\n",
              "    <tr>\n",
              "      <th>1</th>\n",
              "      <td>Immunity: How Elie Metchnikoff ...</td>\n",
              "      <td>£57.36</td>\n",
              "      <td>Five</td>\n",
              "    </tr>\n",
              "    <tr>\n",
              "      <th>2</th>\n",
              "      <td>Sorting the Beef from ...</td>\n",
              "      <td>£44.74</td>\n",
              "      <td>Four</td>\n",
              "    </tr>\n",
              "    <tr>\n",
              "      <th>3</th>\n",
              "      <td>Tipping Point for Planet ...</td>\n",
              "      <td>£37.55</td>\n",
              "      <td>One</td>\n",
              "    </tr>\n",
              "    <tr>\n",
              "      <th>4</th>\n",
              "      <td>The Fabric of the ...</td>\n",
              "      <td>£55.91</td>\n",
              "      <td>One</td>\n",
              "    </tr>\n",
              "    <tr>\n",
              "      <th>5</th>\n",
              "      <td>Diary of a Citizen ...</td>\n",
              "      <td>£28.41</td>\n",
              "      <td>One</td>\n",
              "    </tr>\n",
              "    <tr>\n",
              "      <th>6</th>\n",
              "      <td>The Origin of Species</td>\n",
              "      <td>£10.01</td>\n",
              "      <td>Four</td>\n",
              "    </tr>\n",
              "    <tr>\n",
              "      <th>7</th>\n",
              "      <td>The Grand Design</td>\n",
              "      <td>£13.76</td>\n",
              "      <td>Three</td>\n",
              "    </tr>\n",
              "    <tr>\n",
              "      <th>8</th>\n",
              "      <td>Peak: Secrets from the ...</td>\n",
              "      <td>£16.28</td>\n",
              "      <td>Two</td>\n",
              "    </tr>\n",
              "    <tr>\n",
              "      <th>9</th>\n",
              "      <td>The Elegant Universe: Superstrings, ...</td>\n",
              "      <td>£13.03</td>\n",
              "      <td>Four</td>\n",
              "    </tr>\n",
              "    <tr>\n",
              "      <th>10</th>\n",
              "      <td>The Disappearing Spoon: And ...</td>\n",
              "      <td>£57.35</td>\n",
              "      <td>Five</td>\n",
              "    </tr>\n",
              "    <tr>\n",
              "      <th>11</th>\n",
              "      <td>Surely You're Joking, Mr. ...</td>\n",
              "      <td>£25.83</td>\n",
              "      <td>Two</td>\n",
              "    </tr>\n",
              "    <tr>\n",
              "      <th>12</th>\n",
              "      <td>Seven Brief Lessons on ...</td>\n",
              "      <td>£30.60</td>\n",
              "      <td>Four</td>\n",
              "    </tr>\n",
              "    <tr>\n",
              "      <th>13</th>\n",
              "      <td>The Selfish Gene</td>\n",
              "      <td>£29.45</td>\n",
              "      <td>One</td>\n",
              "    </tr>\n",
              "  </tbody>\n",
              "</table>\n",
              "</div>"
            ],
            "text/plain": [
              "                                 book_title book_price book_rate\n",
              "0               The Most Perfect Thing: ...     £42.96      Four\n",
              "1        Immunity: How Elie Metchnikoff ...     £57.36      Five\n",
              "2                 Sorting the Beef from ...     £44.74      Four\n",
              "3              Tipping Point for Planet ...     £37.55       One\n",
              "4                     The Fabric of the ...     £55.91       One\n",
              "5                    Diary of a Citizen ...     £28.41       One\n",
              "6                     The Origin of Species     £10.01      Four\n",
              "7                          The Grand Design     £13.76     Three\n",
              "8                Peak: Secrets from the ...     £16.28       Two\n",
              "9   The Elegant Universe: Superstrings, ...     £13.03      Four\n",
              "10          The Disappearing Spoon: And ...     £57.35      Five\n",
              "11            Surely You're Joking, Mr. ...     £25.83       Two\n",
              "12               Seven Brief Lessons on ...     £30.60      Four\n",
              "13                         The Selfish Gene     £29.45       One"
            ]
          },
          "metadata": {},
          "execution_count": 98
        }
      ]
    },
    {
      "cell_type": "code",
      "metadata": {
        "id": "zBb8zGgEFAGq"
      },
      "source": [
        ""
      ],
      "execution_count": 76,
      "outputs": []
    }
  ]
}